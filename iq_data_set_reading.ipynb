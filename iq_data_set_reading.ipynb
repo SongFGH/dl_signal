{
 "cells": [
  {
   "cell_type": "code",
   "execution_count": 15,
   "metadata": {},
   "outputs": [],
   "source": [
    "import numpy as np\n",
    "from sklearn.preprocessing import scale"
   ]
  },
  {
   "cell_type": "code",
   "execution_count": 24,
   "metadata": {},
   "outputs": [],
   "source": [
    "data = np.load('../dataset/iq/iq_train_data.npy')\n",
    "data = scale(data.reshape(len(data), -1), axis=0).reshape(data.shape)\n",
    "data = data.reshape(-1,8,400)\n",
    "label = np.load('../dataset/iq/iq_train_label.npy')\n",
    "label = label.reshape(-1,1000)"
   ]
  },
  {
   "cell_type": "code",
   "execution_count": 25,
   "metadata": {},
   "outputs": [],
   "source": [
    "# Shape of train data: (5589, 32, 1600, 2)\n",
    "# Shape of train label: (5589, 32, 1000)\n",
    "# shape of train data prev: (2383, 256, 512)\n",
    "# Shape of train label: (2383, 256, 60)\n"
   ]
  },
  {
   "cell_type": "code",
   "execution_count": 26,
   "metadata": {},
   "outputs": [],
   "source": [
    "data_p = np.load('../dataset/TA1/train_data.npz.npy')\n",
    "data_p = scale(data_p.reshape(len(data_p), -1), axis=0).reshape(data_p.shape)"
   ]
  },
  {
   "cell_type": "code",
   "execution_count": 27,
   "metadata": {},
   "outputs": [],
   "source": [
    "label_p = np.load('../dataset/TA1/train_label.npz.npy')"
   ]
  },
  {
   "cell_type": "code",
   "execution_count": 29,
   "metadata": {},
   "outputs": [
    {
     "data": {
      "text/plain": [
       "(178848,)"
      ]
     },
     "execution_count": 29,
     "metadata": {},
     "output_type": "execute_result"
    }
   ],
   "source": [
    "np.argmax(label, axis=1).shape"
   ]
  },
  {
   "cell_type": "code",
   "execution_count": 20,
   "metadata": {},
   "outputs": [
    {
     "data": {
      "text/plain": [
       "array([-0.01705683, -0.21208528])"
      ]
     },
     "execution_count": 20,
     "metadata": {},
     "output_type": "execute_result"
    }
   ],
   "source": [
    "data[0][0][0]"
   ]
  },
  {
   "cell_type": "code",
   "execution_count": 21,
   "metadata": {},
   "outputs": [
    {
     "data": {
      "text/plain": [
       "-0.13056701816575167"
      ]
     },
     "execution_count": 21,
     "metadata": {},
     "output_type": "execute_result"
    }
   ],
   "source": [
    "data_p[0][0][0]"
   ]
  },
  {
   "cell_type": "code",
   "execution_count": null,
   "metadata": {},
   "outputs": [],
   "source": []
  },
  {
   "cell_type": "code",
   "execution_count": null,
   "metadata": {},
   "outputs": [],
   "source": []
  },
  {
   "cell_type": "code",
   "execution_count": null,
   "metadata": {},
   "outputs": [],
   "source": []
  },
  {
   "cell_type": "code",
   "execution_count": 11,
   "metadata": {},
   "outputs": [],
   "source": [
    "data = data.reshape(-1, 3200)"
   ]
  },
  {
   "cell_type": "code",
   "execution_count": 12,
   "metadata": {},
   "outputs": [
    {
     "data": {
      "text/plain": [
       "(178848, 3200)"
      ]
     },
     "execution_count": 12,
     "metadata": {},
     "output_type": "execute_result"
    }
   ],
   "source": [
    "data.shape"
   ]
  },
  {
   "cell_type": "code",
   "execution_count": 13,
   "metadata": {},
   "outputs": [],
   "source": [
    "label = label.reshape(-1, 1000)"
   ]
  },
  {
   "cell_type": "code",
   "execution_count": 14,
   "metadata": {},
   "outputs": [
    {
     "data": {
      "text/plain": [
       "(178848, 1000)"
      ]
     },
     "execution_count": 14,
     "metadata": {},
     "output_type": "execute_result"
    }
   ],
   "source": [
    "label.shape"
   ]
  },
  {
   "cell_type": "code",
   "execution_count": 16,
   "metadata": {},
   "outputs": [
    {
     "data": {
      "text/plain": [
       "(2383, 256, 60)"
      ]
     },
     "execution_count": 16,
     "metadata": {},
     "output_type": "execute_result"
    }
   ],
   "source": [
    "label_p.shape"
   ]
  },
  {
   "cell_type": "code",
   "execution_count": 17,
   "metadata": {},
   "outputs": [
    {
     "ename": "IndexError",
     "evalue": "tuple index out of range",
     "output_type": "error",
     "traceback": [
      "\u001b[0;31m---------------------------------------------------------------------------\u001b[0m",
      "\u001b[0;31mIndexError\u001b[0m                                Traceback (most recent call last)",
      "\u001b[0;32m<ipython-input-17-d04431c00d33>\u001b[0m in \u001b[0;36m<module>\u001b[0;34m()\u001b[0m\n\u001b[0;32m----> 1\u001b[0;31m \u001b[0mlabel\u001b[0m\u001b[0;34m.\u001b[0m\u001b[0mshape\u001b[0m\u001b[0;34m[\u001b[0m\u001b[0;36m2\u001b[0m\u001b[0;34m]\u001b[0m\u001b[0;34m\u001b[0m\u001b[0m\n\u001b[0m",
      "\u001b[0;31mIndexError\u001b[0m: tuple index out of range"
     ]
    }
   ],
   "source": [
    "label.shape[2]"
   ]
  },
  {
   "cell_type": "code",
   "execution_count": 19,
   "metadata": {},
   "outputs": [],
   "source": [
    "a = label_p[0]"
   ]
  },
  {
   "cell_type": "code",
   "execution_count": 23,
   "metadata": {},
   "outputs": [
    {
     "data": {
      "text/plain": [
       "array([ 0, 58, 19, 42, 15, 52, 19, 11, 19, 19,  7, 19, 42, 19, 19, 52, 47,\n",
       "       19, 39, 19, 42, 16, 19, 19,  1, 16, 52, 22, 19, 27, 19, 20, 48, 52,\n",
       "       12, 17, 17, 20, 19, 26, 42, 19, 19, 17,  1, 19, 58, 42, 11, 52, 19,\n",
       "       19, 42, 52, 19, 11, 12, 59,  1, 19, 10, 19, 19, 18, 17, 51, 58,  0,\n",
       "       22, 28, 16, 52, 19, 19, 22, 52, 42, 19, 19, 19, 58, 42, 42, 19, 12,\n",
       "       19, 42, 21, 42, 42, 19, 19, 52, 42,  1, 52, 58, 42, 19, 59, 49, 42,\n",
       "       52, 19, 19, 19, 55, 46, 19, 26, 19, 42, 17, 19, 19, 19,  6, 19, 16,\n",
       "       56, 19, 28, 19, 42, 26, 16, 42, 19, 42, 33, 19, 19, 19, 19, 52, 30,\n",
       "       51, 19, 21, 42, 19, 19, 57, 18, 19, 19,  6, 59, 52, 44, 14, 20, 17,\n",
       "       59, 19, 52, 18, 42, 47, 58, 58, 26, 12, 19, 57, 19, 52, 20, 22, 52,\n",
       "       19, 42, 47, 50, 19, 19, 52, 19, 19, 19, 17, 19, 19, 52, 17, 19, 20,\n",
       "        6, 42, 20, 44, 19, 19, 19, 59, 50, 17, 27, 19, 42, 58, 25,  0, 42,\n",
       "       42, 52, 59, 52, 19, 29, 16, 26, 17, 42, 50,  0, 50, 50, 42, 59, 19,\n",
       "        7, 56, 58, 19, 36, 19, 17, 52, 52, 19, 43, 52, 29, 20, 19, 52, 19,\n",
       "       58, 52, 11, 22,  6, 19, 42,  0, 26, 22, 52, 19, 18, 52, 19, 42,  7,\n",
       "       19])"
      ]
     },
     "execution_count": 23,
     "metadata": {},
     "output_type": "execute_result"
    }
   ],
   "source": [
    "np.argmax(a, axis=1)"
   ]
  },
  {
   "cell_type": "code",
   "execution_count": 21,
   "metadata": {},
   "outputs": [
    {
     "data": {
      "text/plain": [
       "(256, 60)"
      ]
     },
     "execution_count": 21,
     "metadata": {},
     "output_type": "execute_result"
    }
   ],
   "source": [
    "a.shape"
   ]
  },
  {
   "cell_type": "code",
   "execution_count": null,
   "metadata": {},
   "outputs": [],
   "source": []
  }
 ],
 "metadata": {
  "kernelspec": {
   "display_name": "Environment (conda_pytorch_p36)",
   "language": "python",
   "name": "conda_pytorch_p36"
  },
  "language_info": {
   "codemirror_mode": {
    "name": "ipython",
    "version": 3
   },
   "file_extension": ".py",
   "mimetype": "text/x-python",
   "name": "python",
   "nbconvert_exporter": "python",
   "pygments_lexer": "ipython3",
   "version": "3.6.5"
  }
 },
 "nbformat": 4,
 "nbformat_minor": 2
}
